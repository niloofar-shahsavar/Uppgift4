{
 "cells": [
  {
   "cell_type": "markdown",
   "id": "f3f2b218",
   "metadata": {},
   "source": [
    "# Project 4: Data Analysis and Visualization with Pandas and Streamlit"
   ]
  },
  {
   "cell_type": "markdown",
   "id": "829d8e9a",
   "metadata": {},
   "source": [
    "# --- 1️⃣ Import and load data ---"
   ]
  },
  {
   "cell_type": "code",
   "execution_count": 1,
   "id": "5fceec13",
   "metadata": {},
   "outputs": [
    {
     "data": {
      "text/html": [
       "<div>\n",
       "<style scoped>\n",
       "    .dataframe tbody tr th:only-of-type {\n",
       "        vertical-align: middle;\n",
       "    }\n",
       "\n",
       "    .dataframe tbody tr th {\n",
       "        vertical-align: top;\n",
       "    }\n",
       "\n",
       "    .dataframe thead th {\n",
       "        text-align: right;\n",
       "    }\n",
       "</style>\n",
       "<table border=\"1\" class=\"dataframe\">\n",
       "  <thead>\n",
       "    <tr style=\"text-align: right;\">\n",
       "      <th></th>\n",
       "      <th>Name</th>\n",
       "      <th>Sector</th>\n",
       "      <th>Price</th>\n",
       "      <th>Price/Earnings</th>\n",
       "      <th>Dividend Yield</th>\n",
       "      <th>Earnings/Share</th>\n",
       "      <th>52 Week Low</th>\n",
       "      <th>52 Week High</th>\n",
       "      <th>Market Cap</th>\n",
       "      <th>EBITDA</th>\n",
       "      <th>Price/Sales</th>\n",
       "      <th>Price/Book</th>\n",
       "    </tr>\n",
       "  </thead>\n",
       "  <tbody>\n",
       "    <tr>\n",
       "      <th>0</th>\n",
       "      <td>3M Company</td>\n",
       "      <td>Industrials</td>\n",
       "      <td>222.89</td>\n",
       "      <td>24.31</td>\n",
       "      <td>2.332862</td>\n",
       "      <td>7.92</td>\n",
       "      <td>259.77</td>\n",
       "      <td>175.490</td>\n",
       "      <td>1.390000e+11</td>\n",
       "      <td>9.048000e+09</td>\n",
       "      <td>4.390271</td>\n",
       "      <td>11.34</td>\n",
       "    </tr>\n",
       "    <tr>\n",
       "      <th>1</th>\n",
       "      <td>A.O. Smith Corp</td>\n",
       "      <td>Industrials</td>\n",
       "      <td>60.24</td>\n",
       "      <td>27.76</td>\n",
       "      <td>1.147959</td>\n",
       "      <td>1.70</td>\n",
       "      <td>68.39</td>\n",
       "      <td>48.925</td>\n",
       "      <td>1.078342e+10</td>\n",
       "      <td>6.010000e+08</td>\n",
       "      <td>3.575483</td>\n",
       "      <td>6.35</td>\n",
       "    </tr>\n",
       "    <tr>\n",
       "      <th>2</th>\n",
       "      <td>Abbott Laboratories</td>\n",
       "      <td>Health Care</td>\n",
       "      <td>56.27</td>\n",
       "      <td>22.51</td>\n",
       "      <td>1.908982</td>\n",
       "      <td>0.26</td>\n",
       "      <td>64.60</td>\n",
       "      <td>42.280</td>\n",
       "      <td>1.020000e+11</td>\n",
       "      <td>5.744000e+09</td>\n",
       "      <td>3.740480</td>\n",
       "      <td>3.19</td>\n",
       "    </tr>\n",
       "    <tr>\n",
       "      <th>3</th>\n",
       "      <td>AbbVie Inc.</td>\n",
       "      <td>Health Care</td>\n",
       "      <td>108.48</td>\n",
       "      <td>19.41</td>\n",
       "      <td>2.499560</td>\n",
       "      <td>3.29</td>\n",
       "      <td>125.86</td>\n",
       "      <td>60.050</td>\n",
       "      <td>1.810000e+11</td>\n",
       "      <td>1.031000e+10</td>\n",
       "      <td>6.291571</td>\n",
       "      <td>26.14</td>\n",
       "    </tr>\n",
       "    <tr>\n",
       "      <th>4</th>\n",
       "      <td>Accenture plc</td>\n",
       "      <td>Information Technology</td>\n",
       "      <td>150.51</td>\n",
       "      <td>25.47</td>\n",
       "      <td>1.714470</td>\n",
       "      <td>5.44</td>\n",
       "      <td>162.60</td>\n",
       "      <td>114.820</td>\n",
       "      <td>9.876586e+10</td>\n",
       "      <td>5.643228e+09</td>\n",
       "      <td>2.604117</td>\n",
       "      <td>10.62</td>\n",
       "    </tr>\n",
       "  </tbody>\n",
       "</table>\n",
       "</div>"
      ],
      "text/plain": [
       "                  Name                  Sector   Price  Price/Earnings  \\\n",
       "0           3M Company             Industrials  222.89           24.31   \n",
       "1      A.O. Smith Corp             Industrials   60.24           27.76   \n",
       "2  Abbott Laboratories             Health Care   56.27           22.51   \n",
       "3          AbbVie Inc.             Health Care  108.48           19.41   \n",
       "4        Accenture plc  Information Technology  150.51           25.47   \n",
       "\n",
       "   Dividend Yield  Earnings/Share  52 Week Low  52 Week High    Market Cap  \\\n",
       "0        2.332862            7.92       259.77       175.490  1.390000e+11   \n",
       "1        1.147959            1.70        68.39        48.925  1.078342e+10   \n",
       "2        1.908982            0.26        64.60        42.280  1.020000e+11   \n",
       "3        2.499560            3.29       125.86        60.050  1.810000e+11   \n",
       "4        1.714470            5.44       162.60       114.820  9.876586e+10   \n",
       "\n",
       "         EBITDA  Price/Sales  Price/Book  \n",
       "0  9.048000e+09     4.390271       11.34  \n",
       "1  6.010000e+08     3.575483        6.35  \n",
       "2  5.744000e+09     3.740480        3.19  \n",
       "3  1.031000e+10     6.291571       26.14  \n",
       "4  5.643228e+09     2.604117       10.62  "
      ]
     },
     "execution_count": 1,
     "metadata": {},
     "output_type": "execute_result"
    }
   ],
   "source": [
    "import pandas as pd\n",
    "df = pd.read_csv(\"/Users/nili/sp500/constituents-financials.csv\")\n",
    "df.head()"
   ]
  },
  {
   "cell_type": "code",
   "execution_count": 2,
   "id": "a3e8e123",
   "metadata": {},
   "outputs": [
    {
     "data": {
      "text/html": [
       "<div>\n",
       "<style scoped>\n",
       "    .dataframe tbody tr th:only-of-type {\n",
       "        vertical-align: middle;\n",
       "    }\n",
       "\n",
       "    .dataframe tbody tr th {\n",
       "        vertical-align: top;\n",
       "    }\n",
       "\n",
       "    .dataframe thead th {\n",
       "        text-align: right;\n",
       "    }\n",
       "</style>\n",
       "<table border=\"1\" class=\"dataframe\">\n",
       "  <thead>\n",
       "    <tr style=\"text-align: right;\">\n",
       "      <th></th>\n",
       "      <th>Name</th>\n",
       "      <th>Sector</th>\n",
       "      <th>Price</th>\n",
       "      <th>Price/Earnings</th>\n",
       "      <th>Dividend Yield</th>\n",
       "      <th>Earnings/Share</th>\n",
       "      <th>52 Week Low</th>\n",
       "      <th>52 Week High</th>\n",
       "      <th>Market Cap</th>\n",
       "      <th>EBITDA</th>\n",
       "      <th>Price/Sales</th>\n",
       "      <th>Price/Book</th>\n",
       "    </tr>\n",
       "  </thead>\n",
       "  <tbody>\n",
       "    <tr>\n",
       "      <th>0</th>\n",
       "      <td>3M Company</td>\n",
       "      <td>Industrials</td>\n",
       "      <td>222.89</td>\n",
       "      <td>24.31</td>\n",
       "      <td>2.332862</td>\n",
       "      <td>7.92</td>\n",
       "      <td>259.77</td>\n",
       "      <td>175.490</td>\n",
       "      <td>1.390000e+11</td>\n",
       "      <td>9.048000e+09</td>\n",
       "      <td>4.390271</td>\n",
       "      <td>11.34</td>\n",
       "    </tr>\n",
       "    <tr>\n",
       "      <th>1</th>\n",
       "      <td>A.O. Smith Corp</td>\n",
       "      <td>Industrials</td>\n",
       "      <td>60.24</td>\n",
       "      <td>27.76</td>\n",
       "      <td>1.147959</td>\n",
       "      <td>1.70</td>\n",
       "      <td>68.39</td>\n",
       "      <td>48.925</td>\n",
       "      <td>1.078342e+10</td>\n",
       "      <td>6.010000e+08</td>\n",
       "      <td>3.575483</td>\n",
       "      <td>6.35</td>\n",
       "    </tr>\n",
       "    <tr>\n",
       "      <th>2</th>\n",
       "      <td>Abbott Laboratories</td>\n",
       "      <td>Health Care</td>\n",
       "      <td>56.27</td>\n",
       "      <td>22.51</td>\n",
       "      <td>1.908982</td>\n",
       "      <td>0.26</td>\n",
       "      <td>64.60</td>\n",
       "      <td>42.280</td>\n",
       "      <td>1.020000e+11</td>\n",
       "      <td>5.744000e+09</td>\n",
       "      <td>3.740480</td>\n",
       "      <td>3.19</td>\n",
       "    </tr>\n",
       "    <tr>\n",
       "      <th>3</th>\n",
       "      <td>AbbVie Inc.</td>\n",
       "      <td>Health Care</td>\n",
       "      <td>108.48</td>\n",
       "      <td>19.41</td>\n",
       "      <td>2.499560</td>\n",
       "      <td>3.29</td>\n",
       "      <td>125.86</td>\n",
       "      <td>60.050</td>\n",
       "      <td>1.810000e+11</td>\n",
       "      <td>1.031000e+10</td>\n",
       "      <td>6.291571</td>\n",
       "      <td>26.14</td>\n",
       "    </tr>\n",
       "    <tr>\n",
       "      <th>4</th>\n",
       "      <td>Accenture plc</td>\n",
       "      <td>Information Technology</td>\n",
       "      <td>150.51</td>\n",
       "      <td>25.47</td>\n",
       "      <td>1.714470</td>\n",
       "      <td>5.44</td>\n",
       "      <td>162.60</td>\n",
       "      <td>114.820</td>\n",
       "      <td>9.876586e+10</td>\n",
       "      <td>5.643228e+09</td>\n",
       "      <td>2.604117</td>\n",
       "      <td>10.62</td>\n",
       "    </tr>\n",
       "    <tr>\n",
       "      <th>...</th>\n",
       "      <td>...</td>\n",
       "      <td>...</td>\n",
       "      <td>...</td>\n",
       "      <td>...</td>\n",
       "      <td>...</td>\n",
       "      <td>...</td>\n",
       "      <td>...</td>\n",
       "      <td>...</td>\n",
       "      <td>...</td>\n",
       "      <td>...</td>\n",
       "      <td>...</td>\n",
       "      <td>...</td>\n",
       "    </tr>\n",
       "    <tr>\n",
       "      <th>500</th>\n",
       "      <td>Xylem Inc.</td>\n",
       "      <td>Industrials</td>\n",
       "      <td>70.24</td>\n",
       "      <td>30.94</td>\n",
       "      <td>1.170079</td>\n",
       "      <td>1.83</td>\n",
       "      <td>76.81</td>\n",
       "      <td>46.860</td>\n",
       "      <td>1.291502e+10</td>\n",
       "      <td>7.220000e+08</td>\n",
       "      <td>2.726209</td>\n",
       "      <td>5.31</td>\n",
       "    </tr>\n",
       "    <tr>\n",
       "      <th>501</th>\n",
       "      <td>Yum! Brands Inc</td>\n",
       "      <td>Consumer Discretionary</td>\n",
       "      <td>76.30</td>\n",
       "      <td>27.25</td>\n",
       "      <td>1.797080</td>\n",
       "      <td>4.07</td>\n",
       "      <td>86.93</td>\n",
       "      <td>62.850</td>\n",
       "      <td>2.700330e+10</td>\n",
       "      <td>2.289000e+09</td>\n",
       "      <td>6.313636</td>\n",
       "      <td>212.08</td>\n",
       "    </tr>\n",
       "    <tr>\n",
       "      <th>502</th>\n",
       "      <td>Zimmer Biomet Holdings</td>\n",
       "      <td>Health Care</td>\n",
       "      <td>115.53</td>\n",
       "      <td>14.32</td>\n",
       "      <td>0.794834</td>\n",
       "      <td>9.01</td>\n",
       "      <td>133.49</td>\n",
       "      <td>108.170</td>\n",
       "      <td>2.445470e+10</td>\n",
       "      <td>2.007400e+09</td>\n",
       "      <td>3.164895</td>\n",
       "      <td>2.39</td>\n",
       "    </tr>\n",
       "    <tr>\n",
       "      <th>503</th>\n",
       "      <td>Zions Bancorp</td>\n",
       "      <td>Financials</td>\n",
       "      <td>50.71</td>\n",
       "      <td>17.73</td>\n",
       "      <td>1.480933</td>\n",
       "      <td>2.60</td>\n",
       "      <td>55.61</td>\n",
       "      <td>38.430</td>\n",
       "      <td>1.067068e+10</td>\n",
       "      <td>0.000000e+00</td>\n",
       "      <td>3.794579</td>\n",
       "      <td>1.42</td>\n",
       "    </tr>\n",
       "    <tr>\n",
       "      <th>504</th>\n",
       "      <td>Zoetis</td>\n",
       "      <td>Health Care</td>\n",
       "      <td>71.51</td>\n",
       "      <td>32.80</td>\n",
       "      <td>0.682372</td>\n",
       "      <td>1.65</td>\n",
       "      <td>80.13</td>\n",
       "      <td>52.000</td>\n",
       "      <td>3.599111e+10</td>\n",
       "      <td>1.734000e+09</td>\n",
       "      <td>9.280896</td>\n",
       "      <td>18.09</td>\n",
       "    </tr>\n",
       "  </tbody>\n",
       "</table>\n",
       "<p>505 rows × 12 columns</p>\n",
       "</div>"
      ],
      "text/plain": [
       "                       Name                  Sector   Price  Price/Earnings  \\\n",
       "0                3M Company             Industrials  222.89           24.31   \n",
       "1           A.O. Smith Corp             Industrials   60.24           27.76   \n",
       "2       Abbott Laboratories             Health Care   56.27           22.51   \n",
       "3               AbbVie Inc.             Health Care  108.48           19.41   \n",
       "4             Accenture plc  Information Technology  150.51           25.47   \n",
       "..                      ...                     ...     ...             ...   \n",
       "500              Xylem Inc.             Industrials   70.24           30.94   \n",
       "501         Yum! Brands Inc  Consumer Discretionary   76.30           27.25   \n",
       "502  Zimmer Biomet Holdings             Health Care  115.53           14.32   \n",
       "503           Zions Bancorp              Financials   50.71           17.73   \n",
       "504                  Zoetis             Health Care   71.51           32.80   \n",
       "\n",
       "     Dividend Yield  Earnings/Share  52 Week Low  52 Week High    Market Cap  \\\n",
       "0          2.332862            7.92       259.77       175.490  1.390000e+11   \n",
       "1          1.147959            1.70        68.39        48.925  1.078342e+10   \n",
       "2          1.908982            0.26        64.60        42.280  1.020000e+11   \n",
       "3          2.499560            3.29       125.86        60.050  1.810000e+11   \n",
       "4          1.714470            5.44       162.60       114.820  9.876586e+10   \n",
       "..              ...             ...          ...           ...           ...   \n",
       "500        1.170079            1.83        76.81        46.860  1.291502e+10   \n",
       "501        1.797080            4.07        86.93        62.850  2.700330e+10   \n",
       "502        0.794834            9.01       133.49       108.170  2.445470e+10   \n",
       "503        1.480933            2.60        55.61        38.430  1.067068e+10   \n",
       "504        0.682372            1.65        80.13        52.000  3.599111e+10   \n",
       "\n",
       "           EBITDA  Price/Sales  Price/Book  \n",
       "0    9.048000e+09     4.390271       11.34  \n",
       "1    6.010000e+08     3.575483        6.35  \n",
       "2    5.744000e+09     3.740480        3.19  \n",
       "3    1.031000e+10     6.291571       26.14  \n",
       "4    5.643228e+09     2.604117       10.62  \n",
       "..            ...          ...         ...  \n",
       "500  7.220000e+08     2.726209        5.31  \n",
       "501  2.289000e+09     6.313636      212.08  \n",
       "502  2.007400e+09     3.164895        2.39  \n",
       "503  0.000000e+00     3.794579        1.42  \n",
       "504  1.734000e+09     9.280896       18.09  \n",
       "\n",
       "[505 rows x 12 columns]"
      ]
     },
     "execution_count": 2,
     "metadata": {},
     "output_type": "execute_result"
    }
   ],
   "source": [
    "df"
   ]
  },
  {
   "cell_type": "markdown",
   "id": "eb92e1c0",
   "metadata": {},
   "source": [
    "# --- 2️⃣ Check info and missing data ---"
   ]
  },
  {
   "cell_type": "code",
   "execution_count": 3,
   "id": "81c1df55",
   "metadata": {},
   "outputs": [
    {
     "name": "stdout",
     "output_type": "stream",
     "text": [
      "\n",
      "=== Data Info ===\n",
      "<class 'pandas.core.frame.DataFrame'>\n",
      "RangeIndex: 505 entries, 0 to 504\n",
      "Data columns (total 12 columns):\n",
      " #   Column          Non-Null Count  Dtype  \n",
      "---  ------          --------------  -----  \n",
      " 0   Name            505 non-null    object \n",
      " 1   Sector          505 non-null    object \n",
      " 2   Price           505 non-null    float64\n",
      " 3   Price/Earnings  503 non-null    float64\n",
      " 4   Dividend Yield  505 non-null    float64\n",
      " 5   Earnings/Share  505 non-null    float64\n",
      " 6   52 Week Low     505 non-null    float64\n",
      " 7   52 Week High    505 non-null    float64\n",
      " 8   Market Cap      505 non-null    float64\n",
      " 9   EBITDA          505 non-null    float64\n",
      " 10  Price/Sales     505 non-null    float64\n",
      " 11  Price/Book      497 non-null    float64\n",
      "dtypes: float64(10), object(2)\n",
      "memory usage: 47.5+ KB\n"
     ]
    }
   ],
   "source": [
    "print(\"\\n=== Data Info ===\")\n",
    "df.info()"
   ]
  },
  {
   "cell_type": "code",
   "execution_count": 4,
   "id": "854f658b",
   "metadata": {},
   "outputs": [
    {
     "name": "stdout",
     "output_type": "stream",
     "text": [
      "\n",
      "=== Missing Values ===\n",
      "Name              0\n",
      "Sector            0\n",
      "Price             0\n",
      "Price/Earnings    2\n",
      "Dividend Yield    0\n",
      "Earnings/Share    0\n",
      "52 Week Low       0\n",
      "52 Week High      0\n",
      "Market Cap        0\n",
      "EBITDA            0\n",
      "Price/Sales       0\n",
      "Price/Book        8\n",
      "dtype: int64\n"
     ]
    }
   ],
   "source": [
    "print(\"\\n=== Missing Values ===\")\n",
    "print(df.isna().sum())"
   ]
  },
  {
   "cell_type": "markdown",
   "id": "818ae1c9",
   "metadata": {},
   "source": [
    "# Fill missing numeric columns with mean"
   ]
  },
  {
   "cell_type": "code",
   "execution_count": 5,
   "id": "97985f3c",
   "metadata": {},
   "outputs": [
    {
     "data": {
      "text/plain": [
       "Name              0\n",
       "Sector            0\n",
       "Price             0\n",
       "Price/Earnings    0\n",
       "Dividend Yield    0\n",
       "Earnings/Share    0\n",
       "52 Week Low       0\n",
       "52 Week High      0\n",
       "Market Cap        0\n",
       "EBITDA            0\n",
       "Price/Sales       0\n",
       "Price/Book        0\n",
       "dtype: int64"
      ]
     },
     "execution_count": 5,
     "metadata": {},
     "output_type": "execute_result"
    }
   ],
   "source": [
    "df[\"Price/Earnings\"] = df[\"Price/Earnings\"].fillna(df[\"Price/Earnings\"].mean())\n",
    "df[\"Price/Book\"] = df[\"Price/Book\"].fillna(df[\"Price/Book\"].mean())\n",
    "df.isna().sum()"
   ]
  },
  {
   "cell_type": "markdown",
   "id": "03e5a5cd",
   "metadata": {},
   "source": [
    "# --- 3️⃣ Basic Statistics ---"
   ]
  },
  {
   "cell_type": "code",
   "execution_count": 6,
   "id": "6d786c72",
   "metadata": {},
   "outputs": [
    {
     "name": "stdout",
     "output_type": "stream",
     "text": [
      "\n",
      "=== Summary Statistics ===\n",
      "             Price  Price/Earnings  Dividend Yield  Earnings/Share  \\\n",
      "count   505.000000      505.000000      505.000000      505.000000   \n",
      "mean    103.830634       24.808390        1.895953        3.753743   \n",
      "std     134.427636       41.159172        1.537214        5.689036   \n",
      "min       2.820000     -251.530000        0.000000      -28.010000   \n",
      "25%      46.250000       15.350000        0.794834        1.490000   \n",
      "50%      73.920000       19.540000        1.769255        2.890000   \n",
      "75%     116.540000       25.740000        2.781114        5.140000   \n",
      "max    1806.060000      520.150000       12.661196       44.090000   \n",
      "\n",
      "       52 Week Low  52 Week High    Market Cap        EBITDA  Price/Sales  \\\n",
      "count   505.000000    505.000000  5.050000e+02  5.050000e+02   505.000000   \n",
      "mean    122.623832     83.536616  4.923784e+10  3.590328e+09     3.941705   \n",
      "std     155.362140    105.725473  9.006020e+10  6.840544e+09     3.460110   \n",
      "min       6.590000      2.800000  2.626102e+09 -5.067000e+09     0.153186   \n",
      "25%      56.250000     38.430000  1.273207e+10  7.739320e+08     1.629490   \n",
      "50%      86.680000     62.850000  2.140095e+10  1.614399e+09     2.896440   \n",
      "75%     140.130000     96.660000  4.511968e+10  3.692749e+09     4.703842   \n",
      "max    2067.990000   1589.000000  8.100000e+11  7.938600e+10    20.094294   \n",
      "\n",
      "        Price/Book  \n",
      "count   505.000000  \n",
      "mean     14.453179  \n",
      "std      88.946070  \n",
      "min       0.510000  \n",
      "25%       2.040000  \n",
      "50%       3.490000  \n",
      "75%       6.530000  \n",
      "max    1403.380000  \n"
     ]
    }
   ],
   "source": [
    "print(\"\\n=== Summary Statistics ===\")\n",
    "print(df.describe())"
   ]
  },
  {
   "cell_type": "markdown",
   "id": "6f9a9369",
   "metadata": {},
   "source": [
    "# --- 4️⃣ Example analyses ---"
   ]
  },
  {
   "cell_type": "code",
   "execution_count": 7,
   "id": "f8090ea6",
   "metadata": {},
   "outputs": [
    {
     "name": "stdout",
     "output_type": "stream",
     "text": [
      "                           Name                  Sector   Price  \\\n",
      "4                 Accenture plc  Information Technology  150.51   \n",
      "5           Activision Blizzard  Information Technology   65.83   \n",
      "7             Adobe Systems Inc  Information Technology  185.16   \n",
      "9    Advanced Micro Devices Inc  Information Technology   11.22   \n",
      "16      Akamai Technologies Inc  Information Technology   62.49   \n",
      "..                          ...                     ...     ...   \n",
      "477                   Visa Inc.  Information Technology  113.86   \n",
      "487             Western Digital  Information Technology   80.09   \n",
      "488            Western Union Co  Information Technology   18.81   \n",
      "497                 Xerox Corp.  Information Technology   29.80   \n",
      "498                  Xilinx Inc  Information Technology   62.82   \n",
      "\n",
      "     Price/Earnings  Dividend Yield  Earnings/Share  52 Week Low  \\\n",
      "4             25.47        1.714470            5.44      162.600   \n",
      "5             31.80        0.431903            1.28       74.945   \n",
      "7             52.31        0.000000            3.39      204.450   \n",
      "9            187.00        0.000000            0.03       15.650   \n",
      "16            32.55        0.000000            1.79       69.560   \n",
      "..              ...             ...             ...          ...   \n",
      "477           32.72        0.702048            2.80      126.880   \n",
      "487           10.19        2.389201            1.29       95.770   \n",
      "488           10.17        3.591585            0.51       22.210   \n",
      "497            8.87        3.207184            0.59       37.420   \n",
      "498           27.19        2.090488            2.32       77.260   \n",
      "\n",
      "     52 Week High    Market Cap        EBITDA  Price/Sales  Price/Book  \n",
      "4         114.820  9.876586e+10  5.643228e+09     2.604117       10.62  \n",
      "5          38.930  5.251867e+10  2.704000e+09    10.595120        5.16  \n",
      "7         114.451  9.455021e+10  2.538040e+09    13.092818       11.06  \n",
      "9           9.700  1.119166e+10  3.390000e+08     2.109195       21.47  \n",
      "16         44.650  1.090690e+10  7.895170e+08     5.854652        3.25  \n",
      "..            ...           ...           ...          ...         ...  \n",
      "477        84.880  2.700000e+11  1.308600e+10    14.433654        9.40  \n",
      "487        71.380  2.476030e+10  5.169000e+09     1.245503        2.00  \n",
      "488        18.390  8.951609e+09  6.946000e+08     2.226770       12.65  \n",
      "497        26.640  7.938833e+09  1.191000e+09     0.787766        1.49  \n",
      "498        54.990  1.706498e+10  8.454680e+08     7.101206        7.22  \n",
      "\n",
      "[70 rows x 12 columns]\n"
     ]
    }
   ],
   "source": [
    "tech = df[df[\"Sector\"] == \"Information Technology\"]\n",
    "print(tech)"
   ]
  },
  {
   "cell_type": "markdown",
   "id": "39bfc270",
   "metadata": {},
   "source": [
    "## 4.1 Top 10 companies by EBITDA"
   ]
  },
  {
   "cell_type": "code",
   "execution_count": 8,
   "id": "c5cf7dc2",
   "metadata": {},
   "outputs": [
    {
     "name": "stdout",
     "output_type": "stream",
     "text": [
      "                       Name                      Sector    Price  \\\n",
      "51               Apple Inc.      Information Technology   155.15   \n",
      "58                 AT&T Inc  Telecommunication Services    35.57   \n",
      "474  Verizon Communications  Telecommunication Services    49.04   \n",
      "311         Microsoft Corp.      Information Technology    85.01   \n",
      "185       Exxon Mobil Corp.                      Energy    76.07   \n",
      "27     Alphabet Inc Class A      Information Technology  1007.71   \n",
      "28     Alphabet Inc Class C      Information Technology  1001.52   \n",
      "480         Wal-Mart Stores            Consumer Staples   100.02   \n",
      "105           Chevron Corp.                      Energy   112.30   \n",
      "122           Comcast Corp.      Consumer Discretionary    38.19   \n",
      "\n",
      "     Price/Earnings  Dividend Yield  Earnings/Share  52 Week Low  \\\n",
      "51            16.86        1.579541            9.20       180.10   \n",
      "58            12.14        5.415651            4.76        42.70   \n",
      "474           13.08        4.626544            7.36        54.77   \n",
      "311           25.76        1.874791            2.97        96.07   \n",
      "185           21.37        4.003120            1.88        89.30   \n",
      "27            31.48        0.000000           22.27      1198.00   \n",
      "28            40.29        0.000000           22.27      1186.89   \n",
      "480           23.10        1.983471            4.39       109.98   \n",
      "105           27.52        3.885853            4.85       133.88   \n",
      "122           18.54        1.892902            4.74        44.00   \n",
      "\n",
      "     52 Week High    Market Cap        EBITDA  Price/Sales  Price/Book  \n",
      "51       131.1200  8.100000e+11  7.938600e+10     3.458609        5.66  \n",
      "58        32.5500  2.270000e+11  4.965300e+10     1.408315        1.80  \n",
      "474       42.8000  2.080000e+11  4.574500e+10     1.645254        7.96  \n",
      "311       63.2200  6.900000e+11  4.107900e+10     7.113097        9.49  \n",
      "185       76.0500  3.260000e+11  3.905200e+10     1.770194        1.85  \n",
      "27       824.3000  7.340000e+11  3.421700e+10     6.801692        4.70  \n",
      "28       803.1903  7.290000e+11  3.271400e+10     6.772653        4.67  \n",
      "480       66.8900  3.050000e+11  3.072100e+10     0.820994        3.89  \n",
      "105      102.5500  2.190000e+11  2.887700e+10     1.648986        1.71  \n",
      "122       34.7800  1.860000e+11  2.867500e+10     2.179775        2.65  \n"
     ]
    }
   ],
   "source": [
    "top10_ebitda = df.sort_values('EBITDA', ascending=False).head(10)\n",
    "print(top10_ebitda)"
   ]
  },
  {
   "cell_type": "markdown",
   "id": "0ccd60cd",
   "metadata": {},
   "source": [
    "## 4.2 Average Price"
   ]
  },
  {
   "cell_type": "code",
   "execution_count": 9,
   "id": "c03fb78f",
   "metadata": {},
   "outputs": [
    {
     "name": "stdout",
     "output_type": "stream",
     "text": [
      "Average stock price: 103.83\n"
     ]
    }
   ],
   "source": [
    "average_price = df['Price'].mean()\n",
    "print(f\"Average stock price: {average_price:.2f}\")"
   ]
  },
  {
   "cell_type": "markdown",
   "id": "592ddd63",
   "metadata": {},
   "source": [
    "## 4.3 High price stocks"
   ]
  },
  {
   "cell_type": "code",
   "execution_count": 10,
   "id": "8a21f45f",
   "metadata": {},
   "outputs": [
    {
     "name": "stdout",
     "output_type": "stream",
     "text": [
      "                     Name                  Sector    Price  Price/Earnings  \\\n",
      "27   Alphabet Inc Class A  Information Technology  1007.71           31.48   \n",
      "28   Alphabet Inc Class C  Information Technology  1001.52           40.29   \n",
      "30         Amazon.com Inc  Consumer Discretionary  1350.50          296.16   \n",
      "372     Priceline.com Inc  Consumer Discretionary  1806.06           24.26   \n",
      "\n",
      "     Dividend Yield  Earnings/Share  52 Week Low  52 Week High    Market Cap  \\\n",
      "27              0.0           22.27      1198.00      824.3000  7.340000e+11   \n",
      "28              0.0           22.27      1186.89      803.1903  7.290000e+11   \n",
      "30              0.0            6.16      1498.00      812.5000  6.860000e+11   \n",
      "372             0.0           42.66      2067.99     1589.0000  9.181745e+10   \n",
      "\n",
      "           EBITDA  Price/Sales  Price/Book  \n",
      "27   3.421700e+10     6.801692        4.70  \n",
      "28   3.271400e+10     6.772653        4.67  \n",
      "30   1.613200e+10     3.927053       24.28  \n",
      "372  4.803487e+09     9.176564        6.92  \n"
     ]
    }
   ],
   "source": [
    "High_price_stock = df[df[\"Price\"] >= 1000]\n",
    "print(High_price_stock)\n"
   ]
  },
  {
   "cell_type": "markdown",
   "id": "44f8ec0b",
   "metadata": {},
   "source": [
    "# --- 5️⃣ Advanced analysis: EPS vs P/E relationship ---\n",
    "\n",
    "Companies whose Earnings per Share (EPS) are above the median (2.89)\n",
    "and whose Price-to-Earnings ratio (P/E) is below the median (19.54).\n",
    "These companies have stronger profitability but reasonable valuation."
   ]
  },
  {
   "cell_type": "code",
   "execution_count": 11,
   "id": "5faed881",
   "metadata": {},
   "outputs": [
    {
     "name": "stdout",
     "output_type": "stream",
     "text": [
      "\n",
      "=== Strong Companies (High EPS & Low P/E) ===\n",
      "                        Sector  Earnings/Share  Price/Earnings\n",
      "3                  Health Care            3.29           19.41\n",
      "6                  Industrials            7.43           18.22\n",
      "11                 Health Care            5.75           18.11\n",
      "12                  Financials           12.07           12.24\n",
      "13                  Financials           11.01           12.24\n",
      "17                 Industrials            8.28            9.66\n",
      "23                 Health Care           38.35           10.65\n",
      "24      Information Technology           14.13           13.02\n",
      "26                  Financials            4.68           13.26\n",
      "29            Consumer Staples            5.31           18.89\n",
      "32                 Industrials            3.91            9.92\n",
      "34                  Financials            2.90           15.00\n",
      "38                  Financials            9.44           12.41\n",
      "45                      Energy            6.13           18.78\n",
      "47                 Health Care           14.36           19.23\n",
      "51      Information Technology            9.20           16.86\n",
      "52      Information Technology            3.17           14.08\n",
      "58  Telecommunication Services            4.76           12.14\n",
      "61      Consumer Discretionary           44.09           16.31\n",
      "62                 Real Estate            6.36           17.97\n"
     ]
    }
   ],
   "source": [
    "eps_median = df[\"Earnings/Share\"].median()\n",
    "pe_median = df[\"Price/Earnings\"].median()\n",
    "\n",
    "strong_stocks = df[\n",
    "    (df[\"Earnings/Share\"] > eps_median) &\n",
    "    (df[\"Price/Earnings\"] < pe_median)\n",
    "]\n",
    "\n",
    "print(\"\\n=== Strong Companies (High EPS & Low P/E) ===\")\n",
    "print(strong_stocks[[\"Sector\", \"Earnings/Share\", \"Price/Earnings\"]].head(20))"
   ]
  },
  {
   "cell_type": "code",
   "execution_count": 12,
   "id": "5f50af83",
   "metadata": {},
   "outputs": [
    {
     "name": "stdout",
     "output_type": "stream",
     "text": [
      "Strong companies: 135\n"
     ]
    }
   ],
   "source": [
    "print(\"Strong companies:\", len(strong_stocks))"
   ]
  },
  {
   "cell_type": "markdown",
   "id": "f1391d25",
   "metadata": {},
   "source": [
    "# --- 6️⃣ Grouping by Sector ---"
   ]
  },
  {
   "cell_type": "code",
   "execution_count": 13,
   "id": "5ac94729",
   "metadata": {},
   "outputs": [
    {
     "name": "stdout",
     "output_type": "stream",
     "text": [
      "\n",
      "=== Strong Companies per Sector ===\n",
      "Sector\n",
      "Financials                    30\n",
      "Consumer Discretionary        26\n",
      "Health Care                   18\n",
      "Industrials                   17\n",
      "Information Technology         9\n",
      "Real Estate                    9\n",
      "Utilities                      8\n",
      "Consumer Staples               7\n",
      "Materials                      6\n",
      "Energy                         3\n",
      "Telecommunication Services     2\n",
      "Name: count, dtype: int64\n"
     ]
    }
   ],
   "source": [
    "print(\"\\n=== Strong Companies per Sector ===\")\n",
    "print(strong_stocks[\"Sector\"].value_counts())"
   ]
  },
  {
   "cell_type": "code",
   "execution_count": 14,
   "id": "261757c8",
   "metadata": {},
   "outputs": [
    {
     "name": "stdout",
     "output_type": "stream",
     "text": [
      "Sector\n",
      "Consumer Discretionary        26\n",
      "Consumer Staples               7\n",
      "Energy                         3\n",
      "Financials                    30\n",
      "Health Care                   18\n",
      "Industrials                   17\n",
      "Information Technology         9\n",
      "Materials                      6\n",
      "Real Estate                    9\n",
      "Telecommunication Services     2\n",
      "Utilities                      8\n",
      "dtype: int64\n"
     ]
    }
   ],
   "source": [
    "grouped = strong_stocks.groupby(\"Sector\").size()\n",
    "print(grouped)"
   ]
  },
  {
   "cell_type": "code",
   "execution_count": 15,
   "id": "e898b981",
   "metadata": {},
   "outputs": [
    {
     "name": "stdout",
     "output_type": "stream",
     "text": [
      "\n",
      "=== Average EPS & P/E per Sector ===\n",
      "                            Earnings/Share  Price/Earnings\n",
      "Sector                                                    \n",
      "Consumer Discretionary            6.678077       14.648077\n",
      "Consumer Staples                  5.652857       15.641429\n",
      "Energy                            7.406667       17.860000\n",
      "Financials                        5.895000       14.597333\n",
      "Health Care                       9.330000       14.797222\n",
      "Industrials                       7.064118       15.994118\n",
      "Information Technology            6.832222       14.323333\n",
      "Materials                         7.498333       15.418333\n",
      "Real Estate                       4.755556       17.105556\n",
      "Telecommunication Services        6.060000       12.610000\n",
      "Utilities                         4.065000       16.232500\n"
     ]
    }
   ],
   "source": [
    "sector_summary = strong_stocks.groupby(\"Sector\")[[\"Earnings/Share\", \"Price/Earnings\"]].mean()\n",
    "print(\"\\n=== Average EPS & P/E per Sector ===\")\n",
    "print(sector_summary)"
   ]
  },
  {
   "cell_type": "markdown",
   "id": "f51d0d70",
   "metadata": {},
   "source": [
    "# --- 7️⃣ Find the best-performing sector ---"
   ]
  },
  {
   "cell_type": "code",
   "execution_count": 16,
   "id": "043bcaea",
   "metadata": {},
   "outputs": [
    {
     "name": "stdout",
     "output_type": "stream",
     "text": [
      "Sector with highest average EPS: Health Care\n"
     ]
    }
   ],
   "source": [
    "best_sector = sector_summary[\"Earnings/Share\"].idxmax()\n",
    "print(\"Sector with highest average EPS:\", best_sector)"
   ]
  },
  {
   "cell_type": "code",
   "execution_count": 17,
   "id": "743a84a2",
   "metadata": {},
   "outputs": [
    {
     "name": "stdout",
     "output_type": "stream",
     "text": [
      "Best sector for strong stocks:                             Earnings/Share\n",
      "Sector                                    \n",
      "Health Care                       9.330000\n",
      "Materials                         7.498333\n",
      "Energy                            7.406667\n",
      "Industrials                       7.064118\n",
      "Information Technology            6.832222\n",
      "Consumer Discretionary            6.678077\n",
      "Telecommunication Services        6.060000\n",
      "Financials                        5.895000\n",
      "Consumer Staples                  5.652857\n",
      "Real Estate                       4.755556\n"
     ]
    }
   ],
   "source": [
    "sector_summary = (\n",
    "    strong_stocks\n",
    "    .groupby(\"Sector\")[[\"Earnings/Share\"]]\n",
    "    .mean()\n",
    "    .sort_values(\"Earnings/Share\", ascending=False)\n",
    ")\n",
    "\n",
    "best_sector = sector_summary.head(10)\n",
    "print(\"Best sector for strong stocks:\", best_sector)"
   ]
  },
  {
   "cell_type": "markdown",
   "id": "0182644b",
   "metadata": {},
   "source": [
    "\n",
    "# --- 8️⃣ Save results to CSV files ---"
   ]
  },
  {
   "cell_type": "code",
   "execution_count": 18,
   "id": "e80181a7",
   "metadata": {},
   "outputs": [
    {
     "name": "stdout",
     "output_type": "stream",
     "text": [
      "\n",
      "✅ All results saved: sp500_clean.csv, strong_stocks.csv, sector_summary.csv\n"
     ]
    }
   ],
   "source": [
    "df.to_csv(\"sp500_clean.csv\", index=False)\n",
    "strong_stocks.to_csv(\"strong_stocks.csv\", index=False)\n",
    "sector_summary.to_csv(\"sector_summary.csv\")\n",
    "\n",
    "print(\"\\n✅ All results saved: sp500_clean.csv, strong_stocks.csv, sector_summary.csv\")"
   ]
  },
  {
   "cell_type": "markdown",
   "id": "c2059810",
   "metadata": {},
   "source": [
    "In this project, I analyzed the S&P 500 company financials dataset using pandas.\n",
    "After cleaning missing data and exploring key statistics, I compared companies by Earnings per Share (EPS) and Price-to-Earnings (P/E) ratio.\n",
    "Companies with above-median EPS and below-median P/E were identified as strong stocks — meaning they are more profitable and reasonably valued.\n",
    "\n",
    "By grouping these strong companies by sector, I found that the Health Care sector had the highest average EPS (≈ 9.33), making it the best-performing sector overall.\n",
    "Finally, the cleaned data and summarized results were saved into new CSV files for future analysis."
   ]
  },
  {
   "cell_type": "code",
   "execution_count": 19,
   "id": "41d184bd",
   "metadata": {},
   "outputs": [
    {
     "name": "stdout",
     "output_type": "stream",
     "text": [
      "Overwriting app.py\n"
     ]
    }
   ],
   "source": [
    "%%writefile app.py\n",
    "import streamlit as st\n",
    "import pandas as pd\n",
    "\n",
    "st.title(\"📊 S&P 500 Financial Analysis\")\n",
    "\n"
   ]
  }
 ],
 "metadata": {
  "kernelspec": {
   "display_name": "venv",
   "language": "python",
   "name": "python3"
  },
  "language_info": {
   "codemirror_mode": {
    "name": "ipython",
    "version": 3
   },
   "file_extension": ".py",
   "mimetype": "text/x-python",
   "name": "python",
   "nbconvert_exporter": "python",
   "pygments_lexer": "ipython3",
   "version": "3.13.7"
  }
 },
 "nbformat": 4,
 "nbformat_minor": 5
}
